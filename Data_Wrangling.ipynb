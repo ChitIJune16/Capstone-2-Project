{
 "cells": [
  {
   "cell_type": "code",
   "execution_count": 1,
   "id": "8f4e9552-c8e2-489f-87b5-fb301354884c",
   "metadata": {},
   "outputs": [],
   "source": [
    "# Import pandas library and get main file\n",
    "import pandas as pd\n",
    "\n",
    "# get sales data\n",
    "Sales = pd.read_csv(\"SampleSales.csv\")  "
   ]
  },
  {
   "cell_type": "code",
   "execution_count": 2,
   "id": "1551e3f8-192e-4203-be3c-f0092563c0c9",
   "metadata": {},
   "outputs": [
    {
     "name": "stdout",
     "output_type": "stream",
     "text": [
      "<class 'pandas.core.frame.DataFrame'>\n",
      "RangeIndex: 44167 entries, 0 to 44166\n",
      "Data columns (total 14 columns):\n",
      " #   Column                  Non-Null Count  Dtype  \n",
      "---  ------                  --------------  -----  \n",
      " 0   ItemID                  44167 non-null  object \n",
      " 1   year                    44167 non-null  int64  \n",
      " 2   WeekIdentifier          44167 non-null  int64  \n",
      " 3   SalesChannel            44167 non-null  object \n",
      " 4   Territory               44167 non-null  object \n",
      " 5   NewBasePrice            44167 non-null  float64\n",
      " 6   TotalInventory          44167 non-null  int64  \n",
      " 7   StoreInventory          44167 non-null  int64  \n",
      " 8   WarehouseInventory      44167 non-null  int64  \n",
      " 9   StockedStorePercentage  44167 non-null  float64\n",
      " 10  SellingStoresRatio      44167 non-null  float64\n",
      " 11  InboundInventory        44167 non-null  int64  \n",
      " 12  SalesQuantity           44167 non-null  int64  \n",
      " 13  ProjectedInventory      44167 non-null  int64  \n",
      "dtypes: float64(3), int64(8), object(3)\n",
      "memory usage: 4.7+ MB\n"
     ]
    }
   ],
   "source": [
    "Sales.info()"
   ]
  },
  {
   "cell_type": "code",
   "execution_count": 3,
   "id": "b0484b67-2b1a-4625-b585-fc2c1b88f325",
   "metadata": {},
   "outputs": [],
   "source": [
    "# Ensure NewBasePrice is clean numeric with 2 decimals\n",
    "Sales[\"NewBasePrice\"] = (\n",
    "    Sales[\"NewBasePrice\"]\n",
    "    .astype(str)\n",
    "    .str.replace(r\"[$,]\", \"\", regex=True)  # remove $ and commas\n",
    "    .astype(float)\n",
    "    .round(2)\n",
    ")\n",
    "\n",
    "# Ensure SellingStoresRaio is numeric (remove commas or spaces just in case)\n",
    "Sales[\"SellingStoresRatio\"] = (\n",
    "    Sales[\"SellingStoresRatio\"]\n",
    "    .astype(str)\n",
    "    .str.replace(r\"[,\\s]\", \"\", regex=True)  # remove commas and spaces\n",
    "    .astype(float)\n",
    ")\n",
    "\n",
    "# Ensure SalesQuantity is numeric (remove commas or spaces just in case)\n",
    "Sales[\"SalesQuantity\"] = (\n",
    "    Sales[\"SalesQuantity\"]\n",
    "    .astype(str)\n",
    "    .str.replace(r\"[,\\s]\", \"\", regex=True)  # remove commas and spaces\n",
    "    .astype(float)\n",
    ")\n",
    "\n",
    "# Create revenues column\n",
    "Sales[\"revenues\"] = (Sales[\"NewBasePrice\"] * Sales[\"SalesQuantity\"]).round(2)\n"
   ]
  },
  {
   "cell_type": "code",
   "execution_count": 4,
   "id": "db6ec294-8a14-48d0-8425-8b38cb8c2401",
   "metadata": {},
   "outputs": [
    {
     "data": {
      "text/html": [
       "<div>\n",
       "<style scoped>\n",
       "    .dataframe tbody tr th:only-of-type {\n",
       "        vertical-align: middle;\n",
       "    }\n",
       "\n",
       "    .dataframe tbody tr th {\n",
       "        vertical-align: top;\n",
       "    }\n",
       "\n",
       "    .dataframe thead th {\n",
       "        text-align: right;\n",
       "    }\n",
       "</style>\n",
       "<table border=\"1\" class=\"dataframe\">\n",
       "  <thead>\n",
       "    <tr style=\"text-align: right;\">\n",
       "      <th></th>\n",
       "      <th>SalesQuantity</th>\n",
       "      <th>NewBasePrice</th>\n",
       "      <th>SellingStoresRatio</th>\n",
       "    </tr>\n",
       "  </thead>\n",
       "  <tbody>\n",
       "    <tr>\n",
       "      <th>count</th>\n",
       "      <td>44167.000000</td>\n",
       "      <td>44167.000000</td>\n",
       "      <td>44167.000000</td>\n",
       "    </tr>\n",
       "    <tr>\n",
       "      <th>mean</th>\n",
       "      <td>12.583264</td>\n",
       "      <td>19.448836</td>\n",
       "      <td>0.095677</td>\n",
       "    </tr>\n",
       "    <tr>\n",
       "      <th>std</th>\n",
       "      <td>31.723881</td>\n",
       "      <td>3.840044</td>\n",
       "      <td>0.124611</td>\n",
       "    </tr>\n",
       "    <tr>\n",
       "      <th>min</th>\n",
       "      <td>0.000000</td>\n",
       "      <td>10.880000</td>\n",
       "      <td>0.000000</td>\n",
       "    </tr>\n",
       "    <tr>\n",
       "      <th>25%</th>\n",
       "      <td>3.000000</td>\n",
       "      <td>16.725000</td>\n",
       "      <td>0.036400</td>\n",
       "    </tr>\n",
       "    <tr>\n",
       "      <th>50%</th>\n",
       "      <td>5.000000</td>\n",
       "      <td>19.190000</td>\n",
       "      <td>0.066900</td>\n",
       "    </tr>\n",
       "    <tr>\n",
       "      <th>75%</th>\n",
       "      <td>8.000000</td>\n",
       "      <td>21.920000</td>\n",
       "      <td>0.095900</td>\n",
       "    </tr>\n",
       "    <tr>\n",
       "      <th>max</th>\n",
       "      <td>957.000000</td>\n",
       "      <td>46.240000</td>\n",
       "      <td>1.083200</td>\n",
       "    </tr>\n",
       "  </tbody>\n",
       "</table>\n",
       "</div>"
      ],
      "text/plain": [
       "       SalesQuantity  NewBasePrice  SellingStoresRatio\n",
       "count   44167.000000  44167.000000        44167.000000\n",
       "mean       12.583264     19.448836            0.095677\n",
       "std        31.723881      3.840044            0.124611\n",
       "min         0.000000     10.880000            0.000000\n",
       "25%         3.000000     16.725000            0.036400\n",
       "50%         5.000000     19.190000            0.066900\n",
       "75%         8.000000     21.920000            0.095900\n",
       "max       957.000000     46.240000            1.083200"
      ]
     },
     "execution_count": 4,
     "metadata": {},
     "output_type": "execute_result"
    }
   ],
   "source": [
    "# Get Summary stats of key variables to check for obvious erros - like negative numbers\n",
    "Sales[[\"SalesQuantity\", \"NewBasePrice\", \"SellingStoresRatio\"]].describe()"
   ]
  },
  {
   "cell_type": "markdown",
   "id": "0d0317a3-904d-4f25-ad8d-37bd94031709",
   "metadata": {},
   "source": [
    "**No negative Numbers.**\n",
    "\n",
    "**The max numbers for SalesQuantiy and NewbasePrice look suspicious.  Will take a closer look during EDA Stage.**"
   ]
  },
  {
   "cell_type": "code",
   "execution_count": 5,
   "id": "116dbe2b-1a96-4f92-9022-310e4183c127",
   "metadata": {},
   "outputs": [
    {
     "name": "stdout",
     "output_type": "stream",
     "text": [
      "<class 'pandas.core.frame.DataFrame'>\n",
      "RangeIndex: 9205 entries, 0 to 9204\n",
      "Data columns (total 6 columns):\n",
      " #   Column       Non-Null Count  Dtype \n",
      "---  ------       --------------  ----- \n",
      " 0   ItemID       9205 non-null   object\n",
      " 1   Period       9205 non-null   object\n",
      " 2   Category     9205 non-null   object\n",
      " 3   SubCategory  9205 non-null   object\n",
      " 4   Type         9205 non-null   object\n",
      " 5   SubType      9205 non-null   object\n",
      "dtypes: object(6)\n",
      "memory usage: 431.6+ KB\n"
     ]
    }
   ],
   "source": [
    "# get items data\n",
    "Items = pd.read_csv(\"Items.csv\")  \n",
    "\n",
    "Items.info()"
   ]
  },
  {
   "cell_type": "code",
   "execution_count": 6,
   "id": "50ff57be-f198-4728-9d6b-8b0d6d64ee89",
   "metadata": {
    "scrolled": true
   },
   "outputs": [],
   "source": [
    "# Create a new dataframe with Category and Subcategory added\n",
    "# Need to be able to provide new CEO with top line overview categories and subcategories are performing\n",
    "\n",
    "Sales_with_items = Sales.merge(\n",
    "    Items[[\"ItemID\", \"Category\", \"SubCategory\"]],\n",
    "    on=\"ItemID\",\n",
    "    how=\"left\"\n",
    ")\n"
   ]
  },
  {
   "cell_type": "code",
   "execution_count": 7,
   "id": "f61b132a-20b3-4331-81dc-b3d032e5fa38",
   "metadata": {},
   "outputs": [
    {
     "name": "stdout",
     "output_type": "stream",
     "text": [
      "<class 'pandas.core.frame.DataFrame'>\n",
      "RangeIndex: 44167 entries, 0 to 44166\n",
      "Data columns (total 11 columns):\n",
      " #   Column              Non-Null Count  Dtype  \n",
      "---  ------              --------------  -----  \n",
      " 0   ItemID              44167 non-null  object \n",
      " 1   year                44167 non-null  int64  \n",
      " 2   WeekIdentifier      44167 non-null  int64  \n",
      " 3   SalesChannel        44167 non-null  object \n",
      " 4   Territory           44167 non-null  object \n",
      " 5   NewBasePrice        44167 non-null  float64\n",
      " 6   SellingStoresRatio  44167 non-null  float64\n",
      " 7   SalesQuantity       44167 non-null  float64\n",
      " 8   revenues            44167 non-null  float64\n",
      " 9   Category            44167 non-null  object \n",
      " 10  SubCategory         44167 non-null  object \n",
      "dtypes: float64(4), int64(2), object(5)\n",
      "memory usage: 3.7+ MB\n"
     ]
    }
   ],
   "source": [
    "# Drop inventory-related columns, they are not relevant to the proect\n",
    "Sales_with_items = Sales_with_items.drop(\n",
    "    columns=[\n",
    "        \"TotalInventory\",\n",
    "        \"StoreInventory\",\n",
    "        \"WarehouseInventory\",\n",
    "        \"StockedStorePercentage\",\n",
    "        \"InboundInventory\",\n",
    "        \"ProjectedInventory\"\n",
    "    ]\n",
    ")\n",
    "\n",
    "#Check columns are dropped\n",
    "Sales_with_items.info()"
   ]
  },
  {
   "cell_type": "code",
   "execution_count": 8,
   "id": "2e8c4d4b-aa48-4750-b9cc-003771395cab",
   "metadata": {},
   "outputs": [
    {
     "data": {
      "text/plain": [
       "ItemID                0\n",
       "year                  0\n",
       "WeekIdentifier        0\n",
       "SalesChannel          0\n",
       "Territory             0\n",
       "NewBasePrice          0\n",
       "SellingStoresRatio    0\n",
       "SalesQuantity         0\n",
       "revenues              0\n",
       "Category              0\n",
       "SubCategory           0\n",
       "dtype: int64"
      ]
     },
     "execution_count": 8,
     "metadata": {},
     "output_type": "execute_result"
    }
   ],
   "source": [
    "# Count missing values per column\n",
    "Sales_with_items.isnull().sum()"
   ]
  },
  {
   "cell_type": "markdown",
   "id": "9ee290dd-832c-4684-b81d-0010ecb60b49",
   "metadata": {},
   "source": [
    "**Great, there are no missing values**"
   ]
  },
  {
   "cell_type": "code",
   "execution_count": 9,
   "id": "2bfefd2f-12d4-402f-95c0-53a791ed91c4",
   "metadata": {},
   "outputs": [
    {
     "data": {
      "text/plain": [
       "0"
      ]
     },
     "execution_count": 9,
     "metadata": {},
     "output_type": "execute_result"
    }
   ],
   "source": [
    "# Count total duplicate rows\n",
    "Sales_with_items.duplicated().sum()"
   ]
  },
  {
   "cell_type": "markdown",
   "id": "897a0336-cdcf-4b7b-b513-3fda3c6edaa8",
   "metadata": {},
   "source": [
    "**Good, no duplicates either.**"
   ]
  },
  {
   "cell_type": "code",
   "execution_count": 10,
   "id": "b3f6aac2-8dd2-459f-81ef-f716a202faf0",
   "metadata": {},
   "outputs": [],
   "source": [
    "# Exclude E-Commerce sales data from data set\n",
    "Sales_with_items = Sales_with_items.loc[Sales_with_items[\"SalesChannel\"] != \"E-commerce\"]"
   ]
  },
  {
   "cell_type": "code",
   "execution_count": 11,
   "id": "a863c7c1-1b44-4ad7-bd7e-2e9efbf6d0ab",
   "metadata": {},
   "outputs": [],
   "source": [
    "# Determine the top selling items that contribute to 70-80% of revenue ($s).  \n",
    "\n",
    "# Focus on the last year sales, to reflect more recent trends\n",
    "sales_2019 = Sales_with_items[Sales_with_items[\"year\"] == 2019]\n",
    "\n",
    "#Calculate Total 2019 revenue for each item\n",
    "item_sales = (\n",
    "    sales_2019.groupby([\"ItemID\", \"Category\", \"SubCategory\"], as_index=False)[\"revenues\"]\n",
    "    .sum()\n",
    "    .rename(columns={\"revenues\": \"TotalRevenue\"})\n",
    ")\n",
    "\n",
    "#Sort items by Total 2019 Revenue, Highest to Lowest\n",
    "item_sales = item_sales.sort_values(by=\"TotalRevenue\", ascending=False).reset_index(drop=True)\n",
    "\n",
    "#Calculate cummulative contribution\n",
    "total_revenue = item_sales[\"TotalRevenue\"].sum()\n",
    "item_sales[\"CumulativeShare\"] = item_sales[\"TotalRevenue\"].cumsum() / total_revenue\n",
    "\n",
    "#Filter to the top items - check both for 70% and 80%\n",
    "top_70 = item_sales[item_sales[\"CumulativeShare\"] <= 0.70] \n",
    "top_80 = item_sales[item_sales[\"CumulativeShare\"] <= 0.80] "
   ]
  },
  {
   "cell_type": "code",
   "execution_count": 12,
   "id": "224190ef-483c-4120-b144-8b58e60e1c6a",
   "metadata": {},
   "outputs": [
    {
     "name": "stdout",
     "output_type": "stream",
     "text": [
      "Top-70 count = 143, total revenue = $1,785,234.95, coverage = 69.9%\n",
      "Top-80 count = 202, total revenue = $2,041,091.15, coverage = 79.9%\n"
     ]
    }
   ],
   "source": [
    "# quick sanity checks\n",
    "sum70 = top_70[\"TotalRevenue\"].sum()\n",
    "sum80 = top_80[\"TotalRevenue\"].sum()\n",
    "\n",
    "print(f\"Top-70 count = {len(top_70)}, total revenue = ${sum70:,.2f}, coverage = {sum70/total_revenue:.1%}\")\n",
    "print(f\"Top-80 count = {len(top_80)}, total revenue = ${sum80:,.2f}, coverage = {sum80/total_revenue:.1%}\")"
   ]
  },
  {
   "cell_type": "code",
   "execution_count": 13,
   "id": "d115bd20-8cdd-4491-b23a-3a4c2453412b",
   "metadata": {},
   "outputs": [
    {
     "name": "stdout",
     "output_type": "stream",
     "text": [
      "Top-70 items account for 20.000000% of all items\n",
      "Top-80 items account for 28.251748% of all items\n"
     ]
    }
   ],
   "source": [
    "# additional sanity check\n",
    "print(f\"Top-70 items account for {len(top_70)/len(item_sales):1%} of all items\")\n",
    "print(f\"Top-80 items account for {len(top_80)/len(item_sales):1%} of all items\")"
   ]
  },
  {
   "cell_type": "markdown",
   "id": "c67a6ece-8f30-4a5f-b95c-1dcda7484245",
   "metadata": {},
   "source": [
    "**I will will choose the larger group, items contributing to 80% of all revenue**"
   ]
  },
  {
   "cell_type": "code",
   "execution_count": 14,
   "id": "660f2237-a271-4618-915a-891a81398b57",
   "metadata": {},
   "outputs": [
    {
     "name": "stdout",
     "output_type": "stream",
     "text": [
      "Rows kept (for both years): 4,798\n",
      "Unique items kept: 202\n"
     ]
    }
   ],
   "source": [
    "# narrow Sales_with_items file with items tht belong to the top 80 revenue\n",
    "\n",
    "# IDs of top-80 items \n",
    "top80_ids = top_80[\"ItemID\"].unique()\n",
    "\n",
    "# Filter 2018 and 2019 dates for those items\n",
    "Sales_top80 = Sales_with_items[Sales_with_items[\"ItemID\"].isin(top80_ids)].copy()\n",
    "\n",
    "#quick sanity checks\n",
    "print(f\"Rows kept (for both years): {len(Sales_top80):,}\")\n",
    "# Fix: Format the length of the unique items array, not the array itself\n",
    "print(f\"Unique items kept: {len(Sales_top80['ItemID'].unique()):,}\")\n",
    "\n",
    "# Save to CSV\n",
    "Sales_top80.to_csv(\"Sales_top80_items_all_dates.csv\", index=False)"
   ]
  },
  {
   "cell_type": "code",
   "execution_count": 15,
   "id": "fd0dd30c-099c-4a80-9bc5-1ae535f25017",
   "metadata": {},
   "outputs": [
    {
     "data": {
      "text/html": [
       "<div>\n",
       "<style scoped>\n",
       "    .dataframe tbody tr th:only-of-type {\n",
       "        vertical-align: middle;\n",
       "    }\n",
       "\n",
       "    .dataframe tbody tr th {\n",
       "        vertical-align: top;\n",
       "    }\n",
       "\n",
       "    .dataframe thead tr th {\n",
       "        text-align: left;\n",
       "    }\n",
       "\n",
       "    .dataframe thead tr:last-of-type th {\n",
       "        text-align: right;\n",
       "    }\n",
       "</style>\n",
       "<table border=\"1\" class=\"dataframe\">\n",
       "  <thead>\n",
       "    <tr>\n",
       "      <th></th>\n",
       "      <th colspan=\"4\" halign=\"left\">SalesQuantity</th>\n",
       "      <th colspan=\"4\" halign=\"left\">NewBasePrice</th>\n",
       "      <th colspan=\"4\" halign=\"left\">SellingStoresRatio</th>\n",
       "    </tr>\n",
       "    <tr>\n",
       "      <th></th>\n",
       "      <th>count</th>\n",
       "      <th>mean</th>\n",
       "      <th>min</th>\n",
       "      <th>max</th>\n",
       "      <th>count</th>\n",
       "      <th>mean</th>\n",
       "      <th>min</th>\n",
       "      <th>max</th>\n",
       "      <th>count</th>\n",
       "      <th>mean</th>\n",
       "      <th>min</th>\n",
       "      <th>max</th>\n",
       "    </tr>\n",
       "    <tr>\n",
       "      <th>ItemID</th>\n",
       "      <th></th>\n",
       "      <th></th>\n",
       "      <th></th>\n",
       "      <th></th>\n",
       "      <th></th>\n",
       "      <th></th>\n",
       "      <th></th>\n",
       "      <th></th>\n",
       "      <th></th>\n",
       "      <th></th>\n",
       "      <th></th>\n",
       "      <th></th>\n",
       "    </tr>\n",
       "  </thead>\n",
       "  <tbody>\n",
       "    <tr>\n",
       "      <th>yYAY5pI85</th>\n",
       "      <td>48</td>\n",
       "      <td>16.895833</td>\n",
       "      <td>2.0</td>\n",
       "      <td>56.0</td>\n",
       "      <td>48</td>\n",
       "      <td>22.413333</td>\n",
       "      <td>18.08</td>\n",
       "      <td>27.33</td>\n",
       "      <td>48</td>\n",
       "      <td>0.382625</td>\n",
       "      <td>0.0569</td>\n",
       "      <td>1.0335</td>\n",
       "    </tr>\n",
       "    <tr>\n",
       "      <th>Sp6FmlM84</th>\n",
       "      <td>47</td>\n",
       "      <td>69.659574</td>\n",
       "      <td>2.0</td>\n",
       "      <td>165.0</td>\n",
       "      <td>47</td>\n",
       "      <td>15.570638</td>\n",
       "      <td>12.01</td>\n",
       "      <td>19.01</td>\n",
       "      <td>47</td>\n",
       "      <td>0.343519</td>\n",
       "      <td>0.0409</td>\n",
       "      <td>0.7002</td>\n",
       "    </tr>\n",
       "    <tr>\n",
       "      <th>hQjJxUI52</th>\n",
       "      <td>46</td>\n",
       "      <td>42.543478</td>\n",
       "      <td>0.0</td>\n",
       "      <td>130.0</td>\n",
       "      <td>46</td>\n",
       "      <td>12.800000</td>\n",
       "      <td>12.80</td>\n",
       "      <td>12.80</td>\n",
       "      <td>46</td>\n",
       "      <td>0.305789</td>\n",
       "      <td>0.0000</td>\n",
       "      <td>0.7478</td>\n",
       "    </tr>\n",
       "    <tr>\n",
       "      <th>NWpKkFc27</th>\n",
       "      <td>44</td>\n",
       "      <td>98.840909</td>\n",
       "      <td>6.0</td>\n",
       "      <td>487.0</td>\n",
       "      <td>44</td>\n",
       "      <td>19.783636</td>\n",
       "      <td>15.38</td>\n",
       "      <td>23.96</td>\n",
       "      <td>44</td>\n",
       "      <td>0.311327</td>\n",
       "      <td>0.0361</td>\n",
       "      <td>1.0152</td>\n",
       "    </tr>\n",
       "    <tr>\n",
       "      <th>52EVihM31</th>\n",
       "      <td>44</td>\n",
       "      <td>45.772727</td>\n",
       "      <td>2.0</td>\n",
       "      <td>416.0</td>\n",
       "      <td>44</td>\n",
       "      <td>22.860000</td>\n",
       "      <td>22.86</td>\n",
       "      <td>22.86</td>\n",
       "      <td>44</td>\n",
       "      <td>0.142227</td>\n",
       "      <td>0.0070</td>\n",
       "      <td>0.7096</td>\n",
       "    </tr>\n",
       "    <tr>\n",
       "      <th>...</th>\n",
       "      <td>...</td>\n",
       "      <td>...</td>\n",
       "      <td>...</td>\n",
       "      <td>...</td>\n",
       "      <td>...</td>\n",
       "      <td>...</td>\n",
       "      <td>...</td>\n",
       "      <td>...</td>\n",
       "      <td>...</td>\n",
       "      <td>...</td>\n",
       "      <td>...</td>\n",
       "      <td>...</td>\n",
       "    </tr>\n",
       "    <tr>\n",
       "      <th>a9hB0UQ19</th>\n",
       "      <td>22</td>\n",
       "      <td>22.409091</td>\n",
       "      <td>0.0</td>\n",
       "      <td>107.0</td>\n",
       "      <td>22</td>\n",
       "      <td>19.960000</td>\n",
       "      <td>19.96</td>\n",
       "      <td>19.96</td>\n",
       "      <td>22</td>\n",
       "      <td>0.102532</td>\n",
       "      <td>0.0168</td>\n",
       "      <td>0.3566</td>\n",
       "    </tr>\n",
       "    <tr>\n",
       "      <th>YhDFyMk67</th>\n",
       "      <td>21</td>\n",
       "      <td>61.047619</td>\n",
       "      <td>7.0</td>\n",
       "      <td>305.0</td>\n",
       "      <td>21</td>\n",
       "      <td>24.230000</td>\n",
       "      <td>24.23</td>\n",
       "      <td>24.23</td>\n",
       "      <td>21</td>\n",
       "      <td>0.279386</td>\n",
       "      <td>0.0387</td>\n",
       "      <td>1.0272</td>\n",
       "    </tr>\n",
       "    <tr>\n",
       "      <th>b67FgJw34</th>\n",
       "      <td>21</td>\n",
       "      <td>30.619048</td>\n",
       "      <td>1.0</td>\n",
       "      <td>92.0</td>\n",
       "      <td>21</td>\n",
       "      <td>15.518095</td>\n",
       "      <td>12.23</td>\n",
       "      <td>18.78</td>\n",
       "      <td>21</td>\n",
       "      <td>0.143281</td>\n",
       "      <td>0.0000</td>\n",
       "      <td>0.3245</td>\n",
       "    </tr>\n",
       "    <tr>\n",
       "      <th>Ehc_Blo65</th>\n",
       "      <td>21</td>\n",
       "      <td>23.428571</td>\n",
       "      <td>4.0</td>\n",
       "      <td>65.0</td>\n",
       "      <td>21</td>\n",
       "      <td>15.298095</td>\n",
       "      <td>11.56</td>\n",
       "      <td>19.01</td>\n",
       "      <td>21</td>\n",
       "      <td>0.437600</td>\n",
       "      <td>0.0362</td>\n",
       "      <td>1.0279</td>\n",
       "    </tr>\n",
       "    <tr>\n",
       "      <th>T1eq7WQ60</th>\n",
       "      <td>21</td>\n",
       "      <td>62.190476</td>\n",
       "      <td>6.0</td>\n",
       "      <td>275.0</td>\n",
       "      <td>21</td>\n",
       "      <td>24.620000</td>\n",
       "      <td>24.62</td>\n",
       "      <td>24.62</td>\n",
       "      <td>21</td>\n",
       "      <td>0.275600</td>\n",
       "      <td>0.0442</td>\n",
       "      <td>0.7396</td>\n",
       "    </tr>\n",
       "  </tbody>\n",
       "</table>\n",
       "<p>100 rows × 12 columns</p>\n",
       "</div>"
      ],
      "text/plain": [
       "          SalesQuantity                        NewBasePrice                    \\\n",
       "                  count       mean  min    max        count       mean    min   \n",
       "ItemID                                                                          \n",
       "yYAY5pI85            48  16.895833  2.0   56.0           48  22.413333  18.08   \n",
       "Sp6FmlM84            47  69.659574  2.0  165.0           47  15.570638  12.01   \n",
       "hQjJxUI52            46  42.543478  0.0  130.0           46  12.800000  12.80   \n",
       "NWpKkFc27            44  98.840909  6.0  487.0           44  19.783636  15.38   \n",
       "52EVihM31            44  45.772727  2.0  416.0           44  22.860000  22.86   \n",
       "...                 ...        ...  ...    ...          ...        ...    ...   \n",
       "a9hB0UQ19            22  22.409091  0.0  107.0           22  19.960000  19.96   \n",
       "YhDFyMk67            21  61.047619  7.0  305.0           21  24.230000  24.23   \n",
       "b67FgJw34            21  30.619048  1.0   92.0           21  15.518095  12.23   \n",
       "Ehc_Blo65            21  23.428571  4.0   65.0           21  15.298095  11.56   \n",
       "T1eq7WQ60            21  62.190476  6.0  275.0           21  24.620000  24.62   \n",
       "\n",
       "                 SellingStoresRatio                            \n",
       "             max              count      mean     min     max  \n",
       "ItemID                                                         \n",
       "yYAY5pI85  27.33                 48  0.382625  0.0569  1.0335  \n",
       "Sp6FmlM84  19.01                 47  0.343519  0.0409  0.7002  \n",
       "hQjJxUI52  12.80                 46  0.305789  0.0000  0.7478  \n",
       "NWpKkFc27  23.96                 44  0.311327  0.0361  1.0152  \n",
       "52EVihM31  22.86                 44  0.142227  0.0070  0.7096  \n",
       "...          ...                ...       ...     ...     ...  \n",
       "a9hB0UQ19  19.96                 22  0.102532  0.0168  0.3566  \n",
       "YhDFyMk67  24.23                 21  0.279386  0.0387  1.0272  \n",
       "b67FgJw34  18.78                 21  0.143281  0.0000  0.3245  \n",
       "Ehc_Blo65  19.01                 21  0.437600  0.0362  1.0279  \n",
       "T1eq7WQ60  24.62                 21  0.275600  0.0442  0.7396  \n",
       "\n",
       "[100 rows x 12 columns]"
      ]
     },
     "execution_count": 15,
     "metadata": {},
     "output_type": "execute_result"
    }
   ],
   "source": [
    "#do a quick check of the data, check for variability in NewBasePrice and SellingStoresRatio\n",
    "#also check counts of observances by Unique ItemID\n",
    "item_summary = Sales_top80.groupby(\"ItemID\").describe()\n",
    "item_summary = (\n",
    "    Sales_top80.groupby(\"ItemID\")[[\"SalesQuantity\", \"NewBasePrice\", \"SellingStoresRatio\"]]\n",
    "    .agg([\"count\", \"mean\", \"min\", \"max\"])\n",
    ")\n",
    "\n",
    "item_summary.sort_values(by=(\"SalesQuantity\", \"count\"), ascending=False, inplace=True)\n",
    "\n",
    "item_summary.head(100)"
   ]
  },
  {
   "cell_type": "markdown",
   "id": "86f99405-dec3-40f3-8dd4-e294b531caec",
   "metadata": {},
   "source": [
    "**On a quick scan, there is enough variability in the data to allow prediction**"
   ]
  },
  {
   "cell_type": "code",
   "execution_count": null,
   "id": "e8b52f06-5d44-4aa9-aeae-29b7526de748",
   "metadata": {},
   "outputs": [],
   "source": []
  }
 ],
 "metadata": {
  "kernelspec": {
   "display_name": "Python [conda env:base] *",
   "language": "python",
   "name": "conda-base-py"
  },
  "language_info": {
   "codemirror_mode": {
    "name": "ipython",
    "version": 3
   },
   "file_extension": ".py",
   "mimetype": "text/x-python",
   "name": "python",
   "nbconvert_exporter": "python",
   "pygments_lexer": "ipython3",
   "version": "3.12.7"
  }
 },
 "nbformat": 4,
 "nbformat_minor": 5
}
